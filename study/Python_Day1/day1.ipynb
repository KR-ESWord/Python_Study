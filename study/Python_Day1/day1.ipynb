{
 "cells": [
  {
   "cell_type": "markdown",
   "metadata": {},
   "source": [
    "### 실습1\n",
    "- 두 변수에 정수형 숫자를 대입\n",
    "- sum이라는 변수에 대입한 두 변수의 합을 저장 및 출력"
   ]
  },
  {
   "cell_type": "code",
   "execution_count": 1,
   "metadata": {},
   "outputs": [
    {
     "name": "stdout",
     "output_type": "stream",
     "text": [
      "57\n"
     ]
    }
   ],
   "source": [
    "number1 = 26\n",
    "number2 = 31\n",
    "sum = number1 + number2\n",
    "print(sum)"
   ]
  },
  {
   "cell_type": "markdown",
   "metadata": {},
   "source": [
    "### 실습2\n",
    "- 두 변수에 정수형 숫자를 대입\n",
    "- area라는 변수에 대입한 두 변수의 곱을 저장 및 출력"
   ]
  },
  {
   "cell_type": "code",
   "execution_count": 2,
   "metadata": {},
   "outputs": [
    {
     "name": "stdout",
     "output_type": "stream",
     "text": [
      "area =  54\n"
     ]
    }
   ],
   "source": [
    "length = 9\n",
    "width = 6\n",
    "print('area = ',length * width)"
   ]
  },
  {
   "cell_type": "markdown",
   "metadata": {},
   "source": [
    "### 실습3\n",
    "- 문자열간의 합과 문자열과 정수형 숫자의 곱"
   ]
  },
  {
   "cell_type": "code",
   "execution_count": 3,
   "metadata": {},
   "outputs": [
    {
     "name": "stdout",
     "output_type": "stream",
     "text": [
      "*********Hello,Python*********\n"
     ]
    }
   ],
   "source": [
    "string1 = 'Hello,'\n",
    "string2 = 'Python'\n",
    "star = '***'\n",
    "print(star * 3 + string1 + string2 + star * 3)"
   ]
  },
  {
   "cell_type": "markdown",
   "metadata": {},
   "source": [
    "### 실습4\n",
    "- input() 함수 사용해보기"
   ]
  },
  {
   "cell_type": "code",
   "execution_count": 4,
   "metadata": {},
   "outputs": [
    {
     "name": "stdout",
     "output_type": "stream",
     "text": [
      "What is your name?\n",
      "ㅁ\n",
      "Your name is ㅁ\n"
     ]
    }
   ],
   "source": [
    "print('What is your name?')\n",
    "name = input()\n",
    "print('Your name is ' + name)"
   ]
  },
  {
   "cell_type": "code",
   "execution_count": 5,
   "metadata": {},
   "outputs": [
    {
     "name": "stdout",
     "output_type": "stream",
     "text": [
      "What is your name?ㅁ\n",
      "Your name is ㅁ\n"
     ]
    }
   ],
   "source": [
    "name = input('What is your name?')\n",
    "print('Your name is ' + name)"
   ]
  },
  {
   "cell_type": "markdown",
   "metadata": {},
   "source": [
    "### 실습5\n",
    "- 변수의 형태 변경\n",
    "- int형을 str로, str형을 int로"
   ]
  },
  {
   "cell_type": "code",
   "execution_count": 7,
   "metadata": {},
   "outputs": [
    {
     "name": "stdout",
     "output_type": "stream",
     "text": [
      "46\n",
      "<class 'int'>\n",
      "55\n",
      "<class 'str'>\n"
     ]
    }
   ],
   "source": [
    "guess = '23'\n",
    "guess = int(guess)\n",
    "print(guess * 2)\n",
    "print(type(guess))\n",
    "\n",
    "guess = 5\n",
    "guess = str(guess)\n",
    "print(guess * 2)\n",
    "print(type(guess))"
   ]
  },
  {
   "cell_type": "markdown",
   "metadata": {},
   "source": [
    "### 실습6\n",
    "- 숫자 추측게임"
   ]
  },
  {
   "cell_type": "code",
   "execution_count": 8,
   "metadata": {},
   "outputs": [
    {
     "name": "stdout",
     "output_type": "stream",
     "text": [
      "Hello! What is your name?\n",
      "M\n",
      "Well, M, I am thingking of a number between 1 and 20.\n",
      "Take a guess\n",
      "10\n",
      "Your guess is too high\n",
      "That is wrong.\n",
      "5\n",
      "Good job, M! You guessed my number!\n",
      "Your try count is 2\n",
      "Good job, M! You guessed my number!\n"
     ]
    }
   ],
   "source": [
    "import random\n",
    "print('Hello! What is your name?')\n",
    "myName = input()\n",
    "\n",
    "print('Well, ' + myName + ', I am thingking of a number between 1 and 20.')\n",
    "print('Take a guess')\n",
    "\n",
    "number = random.randint(1, 21)\n",
    "answer = True\n",
    "count = 0\n",
    "\n",
    "while answer:\n",
    "    guess = int(input())\n",
    "    count = count + 1\n",
    "    if guess < number :\n",
    "        print('Your guess is too low' + '\\n' + 'That is wrong.')\n",
    "    elif guess > number :\n",
    "        print('Your guess is too high' + '\\n' + 'That is wrong.')\n",
    "    else :\n",
    "        print('Good job, ' + myName + '! You guessed my number!')\n",
    "        print('Your try count is', count)\n",
    "        answer = False\n",
    "    if count > 5 :\n",
    "        print('Your try count over. try later.')\n",
    "        answer = False"
   ]
  },
  {
   "cell_type": "markdown",
   "metadata": {},
   "source": [
    "### 실습7\n",
    "- 두 숫자를 입력 받아 출력하기"
   ]
  },
  {
   "cell_type": "code",
   "execution_count": 10,
   "metadata": {},
   "outputs": [
    {
     "name": "stdout",
     "output_type": "stream",
     "text": [
      "첫 번째 숫자를 입력하세요 : 3\n",
      "두 번쨰 숫자를 입력하세요 : 4\n",
      "첫 번째 3 두 번째 4\n"
     ]
    }
   ],
   "source": [
    "a = int(input('첫 번째 숫자를 입력하세요 : '))\n",
    "b = int(input('두 번쨰 숫자를 입력하세요 : '))\n",
    "print('첫 번째', a, '두 번째', b)"
   ]
  },
  {
   "cell_type": "markdown",
   "metadata": {},
   "source": [
    "### 실습8\n",
    "- 두 숫자를 입력 받아 합구하기"
   ]
  },
  {
   "cell_type": "code",
   "execution_count": 11,
   "metadata": {},
   "outputs": [
    {
     "name": "stdout",
     "output_type": "stream",
     "text": [
      "Input the first number A : \n",
      "5\n",
      "Input the second number B : \n",
      "6\n",
      "A is  5 and B is  6\n",
      "A + B =  11\n"
     ]
    }
   ],
   "source": [
    "print('Input the first number A : ')\n",
    "A = int(input())\n",
    "print('Input the second number B : ')\n",
    "B = int(input())\n",
    "print('A is ', A, 'and B is ', B)\n",
    "print('A + B = ', A + B)"
   ]
  },
  {
   "cell_type": "markdown",
   "metadata": {},
   "source": [
    "### 실습9\n",
    "- 두 숫자를 입력 받아 if와 elif, else를 사용하여 비교하기"
   ]
  },
  {
   "cell_type": "code",
   "execution_count": 12,
   "metadata": {},
   "outputs": [
    {
     "name": "stdout",
     "output_type": "stream",
     "text": [
      "첫 번째 숫자를 입력하세요 : 5\n",
      "두 번째 숫자를 입력하세요 : 3\n",
      "큰 수는 5\n"
     ]
    }
   ],
   "source": [
    "a = int(input('첫 번째 숫자를 입력하세요 : '))\n",
    "b = int(input('두 번째 숫자를 입력하세요 : '))\n",
    "if a > b :\n",
    "    print('큰 수는', a)\n",
    "elif a < b :\n",
    "    print('큰 수는', b)\n",
    "else :\n",
    "    print('두 수는 같다.')"
   ]
  },
  {
   "cell_type": "markdown",
   "metadata": {},
   "source": [
    "### 실습10\n",
    "- 혈액형 입력받아 지정문구 출력\n",
    "- if, elif와 else의 조건문을 사용"
   ]
  },
  {
   "cell_type": "code",
   "execution_count": 14,
   "metadata": {},
   "outputs": [
    {
     "name": "stdout",
     "output_type": "stream",
     "text": [
      "당신의 혈액형은 A/B/O/AB ? b\n",
      "당신은 모든일에 뜨거운 열정을 쏟는 사람입니다.\n"
     ]
    }
   ],
   "source": [
    "blood = input('당신의 혈액형은 A/B/O/AB ? ')\n",
    "if blood == 'A' or blood == 'a' :\n",
    "    print('당신은 호수처럼 맑은 성격을 소유하고 있습니다.')\n",
    "elif blood == 'B' or blood == 'b' :\n",
    "    print('당신은 모든일에 뜨거운 열정을 쏟는 사람입니다.')\n",
    "elif blood == 'O' or blood == 'o' :\n",
    "    print('당신은 매사 밝고 쾌활한 성격의 사람입니다.')\n",
    "elif blood == 'AB' or blood == 'ab' :\n",
    "    print('당신은 창의적인 사고를 하는 사람입니다.')\n",
    "else :\n",
    "    print('존재하지 않는 혈액형입니다.')"
   ]
  },
  {
   "cell_type": "markdown",
   "metadata": {},
   "source": [
    "### 실습11\n",
    "- 점수를 입력하여 합격/불합격 판별하기"
   ]
  },
  {
   "cell_type": "code",
   "execution_count": 15,
   "metadata": {},
   "outputs": [
    {
     "name": "stdout",
     "output_type": "stream",
     "text": [
      "점수를 입력하세요 : 90\n",
      "******************************\n",
      "축하합니다!\n",
      "당신은 창의적 컴퓨팅 과목 시험에 합격하셨습니다.\n",
      "******************************\n"
     ]
    }
   ],
   "source": [
    "score = int(input('점수를 입력하세요 : '))\n",
    "if score >= 90 :\n",
    "    print('*' * 30 + '\\n' + '축하합니다!')\n",
    "    print('당신은 창의적 컴퓨팅 과목 시험에 합격하셨습니다.' + '\\n' + '*' * 30)\n",
    "else :\n",
    "    print('불합격입니다.' + '\\n' + '다시 한번 시도하도록 합니다.')"
   ]
  },
  {
   "cell_type": "markdown",
   "metadata": {},
   "source": [
    "### 실습12\n",
    "- if와 else 조건문을 이용하여 문자열 대치\n",
    "- 간단한 로그인 프로그램"
   ]
  },
  {
   "cell_type": "code",
   "execution_count": 16,
   "metadata": {},
   "outputs": [
    {
     "name": "stdout",
     "output_type": "stream",
     "text": [
      "----------------------------\n",
      "***   스위스 국제 금융   ***\n",
      "----------------------------\n",
      "Please enter your name     : moon\n",
      "Please enter your password : 2019hyu\n",
      "Your password 2019hyu is correct\n",
      "moon Welcome to Swiss International Bank!!!\n",
      "Please enter your e-mail address : moon@hyu2019.com\n",
      " The secure number has been sending to moon@hyu2019.com\n"
     ]
    }
   ],
   "source": [
    "print('-' * 28)\n",
    "print('***   스위스 국제 금융   ***')\n",
    "print('-' * 28)\n",
    "\n",
    "name = input('Please enter your name     : ')\n",
    "word = input('Please enter your password : ')\n",
    "\n",
    "if name == 'moon' and word == '2019hyu' :\n",
    "    print('Your password ' + word + ' is correct')\n",
    "    print(name + ' Welcome to Swiss International Bank!!!')\n",
    "    email = input('Please enter your e-mail address : ')\n",
    "    print(' The secure number has been sending to ' + email)\n",
    "    \n",
    "else :\n",
    "    if name != 'moon' and word != '2019hyu':\n",
    "        print('Your name ' + name + ' and ' + 'password ' + word + ' is NOT correct')\n",
    "        print('Your account is locked, sorry!')\n",
    "    elif name != 'moon' :\n",
    "        print('The name ' + name + ' is NOT correct')\n",
    "        print('Your account is locked, sorry!')\n",
    "    elif word != '2019hyu' :\n",
    "        print('The password ' + word + '  is NOT correct')\n",
    "        print('Your account is locked, sorry!')"
   ]
  },
  {
   "cell_type": "markdown",
   "metadata": {},
   "source": [
    "### 실습13\n",
    "- while 반복문\n",
    "- 문자열을 이용한 도형 만들기"
   ]
  },
  {
   "cell_type": "code",
   "execution_count": 17,
   "metadata": {},
   "outputs": [
    {
     "name": "stdout",
     "output_type": "stream",
     "text": [
      "------------------\n",
      "★\n",
      "★★\n",
      "★★★\n",
      "★★★★\n",
      "★★★★★\n",
      "★★★★★★\n",
      "★★★★★★★\n",
      "★★★★★★★★\n",
      "★★★★★★★★★\n",
      "★★★★★★★★★★\n",
      "------------------\n"
     ]
    }
   ],
   "source": [
    "a = '★'\n",
    "number = 1\n",
    "print('-' * 18)\n",
    "while number <= 10 :\n",
    "    print(a * number)\n",
    "    number = number + 1\n",
    "print('-' * 18)"
   ]
  },
  {
   "cell_type": "markdown",
   "metadata": {},
   "source": [
    "### 실습14\n",
    "- while 반복문\n",
    "- 문자열을 이용한 도형만들기"
   ]
  },
  {
   "cell_type": "code",
   "execution_count": 18,
   "metadata": {},
   "outputs": [
    {
     "name": "stdout",
     "output_type": "stream",
     "text": [
      "*\n",
      "*\n",
      "*\n",
      "*\n",
      "*\n",
      "*\n",
      "*\n",
      "*\n",
      "*\n",
      "*\n"
     ]
    }
   ],
   "source": [
    "cnt = 1\n",
    "while cnt <= 10 :\n",
    "    print('*')\n",
    "    cnt = cnt + 1"
   ]
  },
  {
   "cell_type": "markdown",
   "metadata": {},
   "source": [
    "### 실습15\n",
    "- while 반복문\n",
    "- 10까지 반복하며 숫자더하기"
   ]
  },
  {
   "cell_type": "code",
   "execution_count": 19,
   "metadata": {},
   "outputs": [
    {
     "name": "stdout",
     "output_type": "stream",
     "text": [
      "1\n",
      "2\n",
      "3\n",
      "4\n",
      "5\n",
      "6\n",
      "7\n",
      "8\n",
      "9\n",
      "10\n"
     ]
    }
   ],
   "source": [
    "number = 1\n",
    "while number <= 10 :\n",
    "    print(number)\n",
    "    number = number + 1"
   ]
  },
  {
   "cell_type": "markdown",
   "metadata": {},
   "source": [
    "### 실습16\n",
    "- while 반복문\n",
    "- 10부터 1씩 숫자빼기"
   ]
  },
  {
   "cell_type": "code",
   "execution_count": 20,
   "metadata": {},
   "outputs": [
    {
     "name": "stdout",
     "output_type": "stream",
     "text": [
      "10\n",
      "9\n",
      "8\n",
      "7\n",
      "6\n",
      "5\n",
      "4\n",
      "3\n",
      "2\n",
      "1\n"
     ]
    }
   ],
   "source": [
    "number = 10\n",
    "while number >= 1 :\n",
    "    print(number)\n",
    "    number = number - 1"
   ]
  },
  {
   "cell_type": "markdown",
   "metadata": {},
   "source": [
    "### 실습17\n",
    "- while 반복문을 이용한 짝수 구하기"
   ]
  },
  {
   "cell_type": "code",
   "execution_count": 21,
   "metadata": {},
   "outputs": [
    {
     "name": "stdout",
     "output_type": "stream",
     "text": [
      "2\n",
      "4\n",
      "6\n",
      "8\n",
      "10\n"
     ]
    }
   ],
   "source": [
    "number = 1\n",
    "while number <= 10 :\n",
    "    if number % 2 == 0 :\n",
    "        print(number)\n",
    "    number = number + 1"
   ]
  },
  {
   "cell_type": "markdown",
   "metadata": {},
   "source": [
    "### 실습18\n",
    "- while 반복문"
   ]
  },
  {
   "cell_type": "code",
   "execution_count": 22,
   "metadata": {},
   "outputs": [
    {
     "name": "stdout",
     "output_type": "stream",
     "text": [
      "파이썬은 1 번 재미 있습니다.\n",
      "파이썬은 2 번 재미 있습니다.\n",
      "파이썬은 3 번 재미 있습니다.\n",
      "파이썬은 4 번 재미 있습니다.\n",
      "파이썬은 5 번 재미 있습니다.\n",
      "파이썬은 6 번 재미 있습니다.\n",
      "파이썬은 7 번 재미 있습니다.\n",
      "파이썬은 8 번 재미 있습니다.\n",
      "파이썬은 9 번 재미 있습니다.\n",
      "파이썬은 10 번 재미 있습니다.\n"
     ]
    }
   ],
   "source": [
    "cnt = 1\n",
    "while cnt <= 10 :\n",
    "    print('파이썬은', cnt, '번 재미 있습니다.')\n",
    "    cnt = cnt + 1"
   ]
  },
  {
   "cell_type": "markdown",
   "metadata": {},
   "source": [
    "### 실습19\n",
    "- while 반복문\n",
    "- 10까지의 모든 숫자의 합 구하기"
   ]
  },
  {
   "cell_type": "code",
   "execution_count": 23,
   "metadata": {},
   "outputs": [
    {
     "name": "stdout",
     "output_type": "stream",
     "text": [
      "step 1 => 1\n",
      "step 2 => 3\n",
      "step 3 => 6\n",
      "step 4 => 10\n",
      "step 5 => 15\n",
      "step 6 => 21\n",
      "step 7 => 28\n",
      "step 8 => 36\n",
      "step 9 => 45\n",
      "step 10 => 55\n"
     ]
    }
   ],
   "source": [
    "cnt = 0\n",
    "csum = 0\n",
    "while cnt < 10 :\n",
    "    cnt = cnt + 1\n",
    "    csum = csum + cnt\n",
    "    print('step', cnt, '=>', csum)"
   ]
  },
  {
   "cell_type": "markdown",
   "metadata": {},
   "source": [
    "### 실습20\n",
    "- 무한정으로 숫자 비교하는 프로그램"
   ]
  },
  {
   "cell_type": "code",
   "execution_count": null,
   "metadata": {},
   "outputs": [],
   "source": [
    "while True :\n",
    "    a = int(input('첫 번째 숫자를 입력하세요 : '))\n",
    "    b = int(input('두 번째 숫자를 입력하세요 : '))\n",
    "    if a > b :\n",
    "        print('큰 수는 ', a)\n",
    "    elif a < b :\n",
    "        print('큰 수는 ', b)\n",
    "    else :\n",
    "        print('두 수는 같다.')"
   ]
  }
 ],
 "metadata": {
  "kernelspec": {
   "display_name": "Python 3",
   "language": "python",
   "name": "python3"
  },
  "language_info": {
   "codemirror_mode": {
    "name": "ipython",
    "version": 3
   },
   "file_extension": ".py",
   "mimetype": "text/x-python",
   "name": "python",
   "nbconvert_exporter": "python",
   "pygments_lexer": "ipython3",
   "version": "3.7.6"
  }
 },
 "nbformat": 4,
 "nbformat_minor": 4
}
