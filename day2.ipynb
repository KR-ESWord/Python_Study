{
 "cells": [
  {
   "cell_type": "markdown",
   "metadata": {},
   "source": [
    "## 실습 Part 1"
   ]
  },
  {
   "cell_type": "markdown",
   "metadata": {},
   "source": [
    "### 실습1\n",
    "- 정수형과 부동소수점형의 표현법"
   ]
  },
  {
   "cell_type": "code",
   "execution_count": 1,
   "metadata": {},
   "outputs": [
    {
     "name": "stdout",
     "output_type": "stream",
     "text": [
      "123\n",
      "  123\n",
      "00123\n",
      "123.450000\n",
      "  123.5\n",
      "123.450\n"
     ]
    }
   ],
   "source": [
    "print('%d' % 123)\n",
    "print('%5d' % 123)\n",
    "print('%05d' % 123)\n",
    "\n",
    "print('%f' % 123.45)\n",
    "print('%7.1f' % 123.45)\n",
    "print('%7.3f' % 123.45)"
   ]
  },
  {
   "cell_type": "markdown",
   "metadata": {},
   "source": [
    "### 실습2\n",
    "- print()함수 출력형식\n",
    "- 줄바꿈, 탭키, 강조, 역슬래쉬 출력"
   ]
  },
  {
   "cell_type": "code",
   "execution_count": 2,
   "metadata": {},
   "outputs": [
    {
     "name": "stdout",
     "output_type": "stream",
     "text": [
      "123   123 00123\n",
      "123   123 00123\n",
      "300 200 100\n",
      "\n",
      "줄바꿈\n",
      "연습\n",
      "\t탭키\t연습\n",
      "글자가 \"강조\"되는 효과1\n",
      "글자가 '강조'되는 효과2\n",
      "\\\\\\역슬래쉬 세 개 출력\n"
     ]
    }
   ],
   "source": [
    "print('%d %5d %05d' % (123, 123, 123))\n",
    "print('{0:d} {1:5d} {2:05d}'.format(123, 123, 123))\n",
    "print('{2:d} {1:d} {0:d}'.format(100, 200, 300))\n",
    "\n",
    "print('\\n줄바꿈\\n연습')\n",
    "print('\\t탭키\\t연습')\n",
    "print('글자가 \\\"강조\\\"되는 효과1')\n",
    "print('글자가 \\'강조\\'되는 효과2')\n",
    "print('\\\\\\\\\\\\역슬래쉬 세 개 출력')"
   ]
  },
  {
   "cell_type": "markdown",
   "metadata": {},
   "source": [
    "### 실습3\n",
    "- 문자열 출력 위치 변경"
   ]
  },
  {
   "cell_type": "code",
   "execution_count": 3,
   "metadata": {},
   "outputs": [
    {
     "name": "stdout",
     "output_type": "stream",
     "text": [
      "    *\n",
      "   **\n",
      "  ***\n",
      " ****\n",
      "*****\n",
      "        hiDave\n",
      "hi        Dave\n"
     ]
    }
   ],
   "source": [
    "print('%5s' % ('*' *1))\n",
    "print('%5s' % ('*' *2))\n",
    "print('%5s' % ('*' *3))\n",
    "print('%5s' % ('*' *4))\n",
    "print('%5s' % ('*' *5))\n",
    "\n",
    "print('%10s' % 'hi' + 'Dave')\n",
    "print('%-10s' % 'hi' + 'Dave')"
   ]
  },
  {
   "cell_type": "markdown",
   "metadata": {},
   "source": [
    "### 실습4\n",
    "- 입력한 별의 개수와 줄수에 따른 도형 출력"
   ]
  },
  {
   "cell_type": "code",
   "execution_count": 4,
   "metadata": {},
   "outputs": [
    {
     "name": "stdout",
     "output_type": "stream",
     "text": [
      "Input a number : 5\n",
      "Input a line : 5\n",
      "*    *    *    *    *    \n",
      "**   **   **   **   **   \n",
      "***  ***  ***  ***  ***  \n",
      "**** **** **** **** **** \n",
      "*************************\n"
     ]
    }
   ],
   "source": [
    "star = int(input('Input a number : '))\n",
    "line = int(input('Input a line : '))\n",
    "cnt = 0\n",
    "while cnt < line :\n",
    "    cnt += 1\n",
    "    print((('*' * cnt) + (' ' * (line - cnt))) * star)"
   ]
  },
  {
   "cell_type": "markdown",
   "metadata": {},
   "source": [
    "### 실습5\n",
    "- 원의 둘레 면적 계산"
   ]
  },
  {
   "cell_type": "code",
   "execution_count": 5,
   "metadata": {},
   "outputs": [
    {
     "name": "stdout",
     "output_type": "stream",
     "text": [
      "Input a number : 5\n",
      "Circleference = 31.4\n",
      "Area          = 78.5\n"
     ]
    }
   ],
   "source": [
    "r = int(input('Input a number : '))\n",
    "pi = 3.14\n",
    "circleference = 2 * pi * r\n",
    "Area = pi * r**2\n",
    "print('Circleference = {0:3.1f}'.format(circleference))\n",
    "print('Area          = {0:3.1f}'.format(Area))"
   ]
  },
  {
   "cell_type": "markdown",
   "metadata": {},
   "source": [
    "### 실습6\n",
    "- 간단 표현식 출력"
   ]
  },
  {
   "cell_type": "code",
   "execution_count": 6,
   "metadata": {},
   "outputs": [
    {
     "name": "stdout",
     "output_type": "stream",
     "text": [
      "15\n",
      "10\n",
      "50\n",
      "10.0\n",
      "2.0\n",
      "2.0\n",
      "32.0\n"
     ]
    }
   ],
   "source": [
    "a = 10\n",
    "a += 5; print(a)\n",
    "a -= 5; print(a)\n",
    "a *= 5; print(a)\n",
    "a /= 5; print(a)\n",
    "a //= 5; print(a)\n",
    "a %= 5; print(a)\n",
    "a **= 5; print(a)"
   ]
  },
  {
   "cell_type": "markdown",
   "metadata": {},
   "source": [
    "### 실습7\n",
    "- 돈 계산하여 잔돈계산 출력 프로그램"
   ]
  },
  {
   "cell_type": "code",
   "execution_count": 7,
   "metadata": {},
   "outputs": [
    {
     "name": "stdout",
     "output_type": "stream",
     "text": [
      "지폐로 교환할 돈은 얼마? 123400\n",
      "50000원 지폐 ==> 2장\n",
      "10000원 지폐 ==> 2장\n",
      "5000원 지폐 ==> 0장\n",
      "1000원 지폐 ==> 3장\n",
      "지폐로 바꾸지 못한 돈 ==> 400원\n",
      "지폐로 바꾸기 위해 추가로 필요한 돈 ==> 600원\n"
     ]
    }
   ],
   "source": [
    "money = int(input('지폐로 교환할 돈은 얼마? '))\n",
    "print('50000원 지폐 ==> {}장'.format(money//50000))\n",
    "print('10000원 지폐 ==> {}장'.format((money%50000)//10000))\n",
    "print('5000원 지폐 ==> {}장'.format((money%10000)//5000))\n",
    "print('1000원 지폐 ==> {}장'.format((money%5000)//1000))\n",
    "print('지폐로 바꾸지 못한 돈 ==> {}원'.format(money%1000))\n",
    "print('지폐로 바꾸기 위해 추가로 필요한 돈 ==> {}원'.format(1000-(money%1000)))"
   ]
  },
  {
   "cell_type": "markdown",
   "metadata": {},
   "source": [
    "### 실습8\n",
    "- BMI계산 프로그램"
   ]
  },
  {
   "cell_type": "code",
   "execution_count": 8,
   "metadata": {},
   "outputs": [
    {
     "name": "stdout",
     "output_type": "stream",
     "text": [
      "몸무게를 kg 단위로 입력 : 65\n",
      "키를 미터 단위로 입력 : 175\n",
      "당신의 BMI = 0.0021224489795918368\n"
     ]
    }
   ],
   "source": [
    "w = float(input('몸무게를 kg 단위로 입력 : '))\n",
    "h = float(input('키를 미터 단위로 입력 : '))\n",
    "bmi = w / h**2\n",
    "print('당신의 BMI = {}'.format(bmi))"
   ]
  },
  {
   "cell_type": "markdown",
   "metadata": {},
   "source": [
    "### 실습9\n",
    "- 잔돈계산 프로그램"
   ]
  },
  {
   "cell_type": "code",
   "execution_count": 9,
   "metadata": {},
   "outputs": [
    {
     "name": "stdout",
     "output_type": "stream",
     "text": [
      "투입한 돈 : 1500\n",
      "물건 값 : 1000\n",
      "거스름돈 : 500\n",
      "500원 동전의 개수 : 1\n",
      "100원 동전의 개수 : 0\n",
      "거스르지 못한 잔액 : 0원\n"
     ]
    }
   ],
   "source": [
    "i = int(input('투입한 돈 : '))\n",
    "p = int(input('물건 값 : '))\n",
    "c = i - p\n",
    "print('거스름돈 : {}'.format(c))\n",
    "print('500원 동전의 개수 : {}'.format(c//500))\n",
    "print('100원 동전의 개수 : {}'.format((c%500)//100))\n",
    "print('거스르지 못한 잔액 : {}원'.format(c%100))"
   ]
  },
  {
   "cell_type": "markdown",
   "metadata": {},
   "source": [
    "## 실습 Part 2"
   ]
  },
  {
   "cell_type": "markdown",
   "metadata": {},
   "source": [
    "### 실습1\n",
    "- 원하는 단을 입력하는 구구단 프로그램"
   ]
  },
  {
   "cell_type": "code",
   "execution_count": 10,
   "metadata": {},
   "outputs": [
    {
     "name": "stdout",
     "output_type": "stream",
     "text": [
      "Input number\n",
      "5\n",
      "***************5dan***************\n",
      "5 X 1 = 5\n",
      "5 X 2 = 10\n",
      "5 X 3 = 15\n",
      "5 X 4 = 20\n",
      "5 X 5 = 25\n",
      "5 X 6 = 30\n",
      "5 X 7 = 35\n",
      "5 X 8 = 40\n",
      "5 X 9 = 45\n",
      "**********************************\n"
     ]
    }
   ],
   "source": [
    "print('Input number')\n",
    "i = int(input())\n",
    "print('*' * 15 + '{}dan'.format(i) + '*' * 15)\n",
    "cnt = 1\n",
    "while cnt < 10 :\n",
    "    print('{}'.format(i) + ' X ' + '{}'.format(cnt) + ' = ' + '{}'.format(i*cnt))\n",
    "    cnt += 1\n",
    "print('*' * 34)"
   ]
  },
  {
   "cell_type": "markdown",
   "metadata": {},
   "source": [
    "### 실습2\n",
    "- 원하는 단을 입력하는 구구단 프로그램(무한반복)"
   ]
  },
  {
   "cell_type": "code",
   "execution_count": 11,
   "metadata": {
    "scrolled": true
   },
   "outputs": [
    {
     "name": "stdout",
     "output_type": "stream",
     "text": [
      "Input number\n",
      "5\n",
      "***************5dan***************\n",
      "5 X 1 = 5\n",
      "5 X 2 = 10\n",
      "5 X 3 = 15\n",
      "5 X 4 = 20\n",
      "5 X 5 = 25\n",
      "5 X 6 = 30\n",
      "5 X 7 = 35\n",
      "5 X 8 = 40\n",
      "5 X 9 = 45\n",
      "**********************************\n",
      "Input number\n",
      "0\n",
      "Input number\n",
      "6\n",
      "***************6dan***************\n",
      "6 X 1 = 6\n",
      "6 X 2 = 12\n",
      "6 X 3 = 18\n",
      "6 X 4 = 24\n",
      "6 X 5 = 30\n",
      "6 X 6 = 36\n",
      "6 X 7 = 42\n",
      "6 X 8 = 48\n",
      "6 X 9 = 54\n",
      "**********************************\n",
      "Input number\n",
      "ㄴ\n"
     ]
    },
    {
     "ename": "ValueError",
     "evalue": "invalid literal for int() with base 10: 'ㄴ'",
     "output_type": "error",
     "traceback": [
      "\u001b[1;31m---------------------------------------------------------------------------\u001b[0m",
      "\u001b[1;31mValueError\u001b[0m                                Traceback (most recent call last)",
      "\u001b[1;32m<ipython-input-11-161bc7c1ae60>\u001b[0m in \u001b[0;36m<module>\u001b[1;34m\u001b[0m\n\u001b[0;32m      1\u001b[0m \u001b[1;32mwhile\u001b[0m \u001b[1;32mTrue\u001b[0m \u001b[1;33m:\u001b[0m\u001b[1;33m\u001b[0m\u001b[1;33m\u001b[0m\u001b[0m\n\u001b[0;32m      2\u001b[0m     \u001b[0mprint\u001b[0m\u001b[1;33m(\u001b[0m\u001b[1;34m'Input number'\u001b[0m\u001b[1;33m)\u001b[0m\u001b[1;33m\u001b[0m\u001b[1;33m\u001b[0m\u001b[0m\n\u001b[1;32m----> 3\u001b[1;33m     \u001b[0mi\u001b[0m \u001b[1;33m=\u001b[0m \u001b[0mint\u001b[0m\u001b[1;33m(\u001b[0m\u001b[0minput\u001b[0m\u001b[1;33m(\u001b[0m\u001b[1;33m)\u001b[0m\u001b[1;33m)\u001b[0m\u001b[1;33m\u001b[0m\u001b[1;33m\u001b[0m\u001b[0m\n\u001b[0m\u001b[0;32m      4\u001b[0m     \u001b[1;32mif\u001b[0m \u001b[0mi\u001b[0m \u001b[1;33m==\u001b[0m \u001b[1;36m99\u001b[0m \u001b[1;33m:\u001b[0m\u001b[1;33m\u001b[0m\u001b[1;33m\u001b[0m\u001b[0m\n\u001b[0;32m      5\u001b[0m         \u001b[1;32mbreak\u001b[0m\u001b[1;33m\u001b[0m\u001b[1;33m\u001b[0m\u001b[0m\n",
      "\u001b[1;31mValueError\u001b[0m: invalid literal for int() with base 10: 'ㄴ'"
     ]
    }
   ],
   "source": [
    "while True :\n",
    "    print('Input number')\n",
    "    i = int(input())\n",
    "    if i == 99 :\n",
    "        break\n",
    "    if i < 1:\n",
    "        continue    \n",
    "    print('*' * 15 + '{}dan'.format(i) + '*' * 15)\n",
    "    cnt = 1\n",
    "    while cnt < 10 :\n",
    "        print('{}'.format(i) + ' X ' + '{}'.format(cnt) + ' = ' + '{}'.format(i*cnt))\n",
    "        cnt += 1\n",
    "    print('*' * 34)"
   ]
  },
  {
   "cell_type": "markdown",
   "metadata": {},
   "source": [
    "### 실습3\n",
    "- 윤년 계산 프로그램"
   ]
  },
  {
   "cell_type": "code",
   "execution_count": 12,
   "metadata": {},
   "outputs": [
    {
     "name": "stdout",
     "output_type": "stream",
     "text": [
      "연도를 입력하세요 : 2020\n",
      "2020년은 윤년입니다.\n",
      "연도를 입력하세요 : ㄴ\n"
     ]
    },
    {
     "ename": "ValueError",
     "evalue": "invalid literal for int() with base 10: 'ㄴ'",
     "output_type": "error",
     "traceback": [
      "\u001b[1;31m---------------------------------------------------------------------------\u001b[0m",
      "\u001b[1;31mValueError\u001b[0m                                Traceback (most recent call last)",
      "\u001b[1;32m<ipython-input-12-85f1c0f6e44c>\u001b[0m in \u001b[0;36m<module>\u001b[1;34m\u001b[0m\n\u001b[0;32m      1\u001b[0m \u001b[1;32mwhile\u001b[0m \u001b[1;32mTrue\u001b[0m \u001b[1;33m:\u001b[0m\u001b[1;33m\u001b[0m\u001b[1;33m\u001b[0m\u001b[0m\n\u001b[1;32m----> 2\u001b[1;33m     \u001b[0myear\u001b[0m \u001b[1;33m=\u001b[0m \u001b[0mint\u001b[0m\u001b[1;33m(\u001b[0m\u001b[0minput\u001b[0m\u001b[1;33m(\u001b[0m\u001b[1;34m'연도를 입력하세요 : '\u001b[0m\u001b[1;33m)\u001b[0m\u001b[1;33m)\u001b[0m\u001b[1;33m\u001b[0m\u001b[1;33m\u001b[0m\u001b[0m\n\u001b[0m\u001b[0;32m      3\u001b[0m     \u001b[1;32mif\u001b[0m \u001b[0myear\u001b[0m \u001b[1;33m%\u001b[0m \u001b[1;36m4\u001b[0m \u001b[1;33m==\u001b[0m \u001b[1;36m0\u001b[0m \u001b[1;32mand\u001b[0m \u001b[0myear\u001b[0m \u001b[1;33m%\u001b[0m \u001b[1;36m100\u001b[0m \u001b[1;33m!=\u001b[0m \u001b[1;36m0\u001b[0m \u001b[1;32mor\u001b[0m \u001b[0myear\u001b[0m \u001b[1;33m%\u001b[0m \u001b[1;36m400\u001b[0m \u001b[1;33m==\u001b[0m \u001b[1;36m0\u001b[0m \u001b[1;33m:\u001b[0m\u001b[1;33m\u001b[0m\u001b[1;33m\u001b[0m\u001b[0m\n\u001b[0;32m      4\u001b[0m         \u001b[0mprint\u001b[0m\u001b[1;33m(\u001b[0m\u001b[1;34m'{}년은 윤년입니다.'\u001b[0m\u001b[1;33m.\u001b[0m\u001b[0mformat\u001b[0m\u001b[1;33m(\u001b[0m\u001b[0myear\u001b[0m\u001b[1;33m)\u001b[0m\u001b[1;33m)\u001b[0m\u001b[1;33m\u001b[0m\u001b[1;33m\u001b[0m\u001b[0m\n\u001b[0;32m      5\u001b[0m     \u001b[1;32melse\u001b[0m \u001b[1;33m:\u001b[0m\u001b[1;33m\u001b[0m\u001b[1;33m\u001b[0m\u001b[0m\n",
      "\u001b[1;31mValueError\u001b[0m: invalid literal for int() with base 10: 'ㄴ'"
     ]
    }
   ],
   "source": [
    "while True :\n",
    "    year = int(input('연도를 입력하세요 : '))\n",
    "    if year % 4 == 0 and year % 100 != 0 or year % 400 == 0 :\n",
    "        print('{}년은 윤년입니다.'.format(year))\n",
    "    else :\n",
    "        print('{}년은 윤년이 아닙니다.'.format(year))"
   ]
  },
  {
   "cell_type": "markdown",
   "metadata": {},
   "source": [
    "### 실습4\n",
    "- if, else 조건문에 따른 변수값 변경하여 출력"
   ]
  },
  {
   "cell_type": "code",
   "execution_count": 13,
   "metadata": {},
   "outputs": [
    {
     "name": "stdout",
     "output_type": "stream",
     "text": [
      "Fail\n"
     ]
    }
   ],
   "source": [
    "jumsu = 55\n",
    "res = ' '\n",
    "if jumsu >= 60 :\n",
    "    res = 'Pass'\n",
    "else :\n",
    "    res ='Fail'\n",
    "print(res)"
   ]
  },
  {
   "cell_type": "markdown",
   "metadata": {},
   "source": [
    "### 실습5\n",
    "- if, else 조건문"
   ]
  },
  {
   "cell_type": "code",
   "execution_count": 14,
   "metadata": {},
   "outputs": [
    {
     "name": "stdout",
     "output_type": "stream",
     "text": [
      "점수를 입력하세요 : 95\n",
      "A+\n",
      "학점입니다. ^^\n"
     ]
    }
   ],
   "source": [
    "g = int(input('점수를 입력하세요 : '))\n",
    "if g >=95 :\n",
    "    print('A+')\n",
    "elif g < 95 and g >= 90 :\n",
    "    print('A')\n",
    "elif g < 90 and g >= 80 :\n",
    "    print('B+')\n",
    "elif g < 80 and g >= 70 :\n",
    "    print('B')\n",
    "elif g < 70 and g >= 60 :\n",
    "    print('C+')\n",
    "elif g < 60 and g >= 50 :\n",
    "    print('C')\n",
    "elif g < 50 and g >= 40 :\n",
    "    print('D+')\n",
    "elif g < 40 and g >= 30 :\n",
    "    print('D')\n",
    "else :\n",
    "    print('F')\n",
    "print('학점입니다. ^^')"
   ]
  },
  {
   "cell_type": "markdown",
   "metadata": {},
   "source": [
    "## 실습 Part 3"
   ]
  },
  {
   "cell_type": "markdown",
   "metadata": {},
   "source": [
    "### 실습1\n",
    "- 문자열 인덱싱"
   ]
  },
  {
   "cell_type": "code",
   "execution_count": 15,
   "metadata": {},
   "outputs": [
    {
     "name": "stdout",
     "output_type": "stream",
     "text": [
      "P\n",
      "d\n",
      "d\n",
      "P\n",
      "Hello world\n",
      "Hello\n",
      "lo world\n",
      "Hello world\n"
     ]
    }
   ],
   "source": [
    "a = 'Python World'\n",
    "print(a[0])\n",
    "print(a[11])\n",
    "print(a[-1])\n",
    "print(a[-12])\n",
    "a = 'Hello world'\n",
    "print(a[0:11])\n",
    "print(a[:5])\n",
    "print(a[3:])\n",
    "print(a[:])"
   ]
  },
  {
   "cell_type": "markdown",
   "metadata": {},
   "source": [
    "### 실습2\n",
    "- upper(), replace(), split() 연습"
   ]
  },
  {
   "cell_type": "code",
   "execution_count": 16,
   "metadata": {},
   "outputs": [
    {
     "name": "stdout",
     "output_type": "stream",
     "text": [
      "PYTHON WORLD\n",
      "Pythan warld\n",
      "['What a ', 'onderful Python']\n",
      "2018년 한국의 GDP는 1조6194억로 세계 12위 입니다.\n"
     ]
    }
   ],
   "source": [
    "a = 'Python world'\n",
    "print(a.upper())\n",
    "print(a.replace('o', 'a'))\n",
    "\n",
    "a = 'What a wonderful Python'\n",
    "print(a.split('w'))\n",
    "\n",
    "year = 2018\n",
    "rank = 12\n",
    "gdp = '1조6194억'\n",
    "a = '{}년 한국의 GDP는 {}로 세계 {}위 입니다.'.format(year, gdp, rank)\n",
    "print(a)"
   ]
  },
  {
   "cell_type": "markdown",
   "metadata": {},
   "source": [
    "### 실습3\n",
    "- upper(), lower(0, swapcase(), title() 연습"
   ]
  },
  {
   "cell_type": "code",
   "execution_count": 17,
   "metadata": {},
   "outputs": [
    {
     "name": "stdout",
     "output_type": "stream",
     "text": [
      "PYTHON IS EASY. 그래서 PROGRAMMING이 재미있습니다.^^\n",
      "python is easy. 그래서 programming이 재미있습니다.^^\n",
      "pYTHON IS eASY. 그래서 PROGRAMMING이 재미있습니다.^^\n",
      "Python Is Easy. 그래서 Programming이 재미있습니다.^^\n"
     ]
    }
   ],
   "source": [
    "ss = 'Python is Easy. 그래서 programming이 재미있습니다.^^'\n",
    "print(ss.upper())\n",
    "print(ss.lower())\n",
    "print(ss.swapcase())\n",
    "print(ss.title())"
   ]
  },
  {
   "cell_type": "markdown",
   "metadata": {},
   "source": [
    "## 실습 Part 4"
   ]
  },
  {
   "cell_type": "markdown",
   "metadata": {},
   "source": [
    "### 실습1\n",
    "- 리스트 인덱싱"
   ]
  },
  {
   "cell_type": "code",
   "execution_count": 18,
   "metadata": {},
   "outputs": [
    {
     "name": "stdout",
     "output_type": "stream",
     "text": [
      "aa[-1]은 40, aa[-2]는 30\n",
      "[10, 20, 30]\n",
      "[30, 40]\n"
     ]
    }
   ],
   "source": [
    "aa = [10, 20, 30 ,40]\n",
    "print('aa[-1]은 %d, aa[-2]는 %d'%(aa[-1], aa[-2]))\n",
    "aa = [10, 20, 30, 40]\n",
    "print(aa[0:3])\n",
    "print(aa[2:4])"
   ]
  },
  {
   "cell_type": "markdown",
   "metadata": {},
   "source": [
    "### 실습2\n",
    "- 리스트 인덱싱 및 합과 곱 연습"
   ]
  },
  {
   "cell_type": "code",
   "execution_count": 19,
   "metadata": {},
   "outputs": [
    {
     "name": "stdout",
     "output_type": "stream",
     "text": [
      "[30, 40]\n",
      "[10, 20]\n",
      "[10, 20, 30, 40, 50, 60]\n",
      "[10, 20, 30, 10, 20, 30, 10, 20, 30]\n"
     ]
    }
   ],
   "source": [
    "aa = [10, 20, 30, 40]\n",
    "print(aa[2:])\n",
    "print(aa[:2])\n",
    "aa = [10, 20, 30]\n",
    "bb = [40, 50, 60]\n",
    "print(aa + bb)\n",
    "print(aa * 3)"
   ]
  },
  {
   "cell_type": "markdown",
   "metadata": {},
   "source": [
    "### 실습3\n",
    "- 리스트 인덱싱\n",
    "- 교차출력 및 역순출력"
   ]
  },
  {
   "cell_type": "code",
   "execution_count": 20,
   "metadata": {},
   "outputs": [
    {
     "name": "stdout",
     "output_type": "stream",
     "text": [
      "[10, 30, 50, 70]\n",
      "[70, 50, 30, 10]\n",
      "[70, 60, 50, 40, 30, 20, 10]\n"
     ]
    }
   ],
   "source": [
    "aa = [10, 20, 30, 40, 50, 60, 70]\n",
    "print(aa[::2])\n",
    "print(aa[::-2])\n",
    "print(aa[::-1])"
   ]
  },
  {
   "cell_type": "markdown",
   "metadata": {},
   "source": [
    "### 실습4\n",
    "- 리스트 원소 변경"
   ]
  },
  {
   "cell_type": "code",
   "execution_count": 21,
   "metadata": {},
   "outputs": [
    {
     "name": "stdout",
     "output_type": "stream",
     "text": [
      "[10, 200, 30]\n",
      "[10, 200, 201, 30]\n"
     ]
    }
   ],
   "source": [
    "aa = [10, 20, 30]\n",
    "aa[1] = 200\n",
    "print(aa)\n",
    "aa = [10, 20, 30]\n",
    "aa[1:2] = [200, 201]\n",
    "print(aa)"
   ]
  },
  {
   "cell_type": "markdown",
   "metadata": {},
   "source": [
    "### 실습5\n",
    "- 리스트안에 리스트 삽입\n",
    "- 리스트 원소 제거"
   ]
  },
  {
   "cell_type": "code",
   "execution_count": 22,
   "metadata": {},
   "outputs": [
    {
     "name": "stdout",
     "output_type": "stream",
     "text": [
      "[10, [200, 201], 30]\n",
      "[10, 30]\n"
     ]
    }
   ],
   "source": [
    "aa = [10, 20, 30]\n",
    "aa[1] = [200, 201]\n",
    "print(aa)\n",
    "aa = [10, 20, 30]\n",
    "del(aa[1])\n",
    "print(aa)"
   ]
  },
  {
   "cell_type": "markdown",
   "metadata": {},
   "source": [
    "### 실습6\n",
    "- 리스트 인덱싱\n",
    "- 리스트 값 공백으로 변경\n",
    "- 리스트를 None으로 변경\n",
    "- 리스트가 del() 되는지 확인"
   ]
  },
  {
   "cell_type": "code",
   "execution_count": 27,
   "metadata": {},
   "outputs": [
    {
     "name": "stdout",
     "output_type": "stream",
     "text": [
      "[10, 50]\n",
      "[]\n",
      "None\n"
     ]
    },
    {
     "ename": "NameError",
     "evalue": "name 'aa' is not defined",
     "output_type": "error",
     "traceback": [
      "\u001b[1;31m---------------------------------------------------------------------------\u001b[0m",
      "\u001b[1;31mNameError\u001b[0m                                 Traceback (most recent call last)",
      "\u001b[1;32m<ipython-input-27-add037385320>\u001b[0m in \u001b[0;36m<module>\u001b[1;34m\u001b[0m\n\u001b[0;32m      4\u001b[0m \u001b[0maa\u001b[0m \u001b[1;33m=\u001b[0m \u001b[1;33m[\u001b[0m\u001b[1;36m10\u001b[0m\u001b[1;33m,\u001b[0m \u001b[1;36m20\u001b[0m\u001b[1;33m,\u001b[0m \u001b[1;36m30\u001b[0m\u001b[1;33m]\u001b[0m\u001b[1;33m;\u001b[0m \u001b[0maa\u001b[0m \u001b[1;33m=\u001b[0m \u001b[1;33m[\u001b[0m\u001b[1;33m]\u001b[0m\u001b[1;33m;\u001b[0m \u001b[0mprint\u001b[0m\u001b[1;33m(\u001b[0m\u001b[0maa\u001b[0m\u001b[1;33m)\u001b[0m\u001b[1;33m\u001b[0m\u001b[1;33m\u001b[0m\u001b[0m\n\u001b[0;32m      5\u001b[0m \u001b[0maa\u001b[0m \u001b[1;33m=\u001b[0m \u001b[1;33m[\u001b[0m\u001b[1;36m10\u001b[0m\u001b[1;33m,\u001b[0m \u001b[1;36m20\u001b[0m\u001b[1;33m,\u001b[0m \u001b[1;36m30\u001b[0m\u001b[1;33m]\u001b[0m\u001b[1;33m;\u001b[0m \u001b[0maa\u001b[0m \u001b[1;33m=\u001b[0m \u001b[1;32mNone\u001b[0m\u001b[1;33m;\u001b[0m \u001b[0mprint\u001b[0m\u001b[1;33m(\u001b[0m\u001b[0maa\u001b[0m\u001b[1;33m)\u001b[0m\u001b[1;33m\u001b[0m\u001b[1;33m\u001b[0m\u001b[0m\n\u001b[1;32m----> 6\u001b[1;33m \u001b[0maa\u001b[0m \u001b[1;33m=\u001b[0m \u001b[1;33m[\u001b[0m\u001b[1;36m10\u001b[0m\u001b[1;33m,\u001b[0m \u001b[1;36m20\u001b[0m\u001b[1;33m,\u001b[0m \u001b[1;36m30\u001b[0m\u001b[1;33m]\u001b[0m\u001b[1;33m;\u001b[0m \u001b[1;32mdel\u001b[0m\u001b[1;33m(\u001b[0m\u001b[0maa\u001b[0m\u001b[1;33m)\u001b[0m\u001b[1;33m;\u001b[0m \u001b[0mprint\u001b[0m\u001b[1;33m(\u001b[0m\u001b[0maa\u001b[0m\u001b[1;33m)\u001b[0m\u001b[1;33m\u001b[0m\u001b[1;33m\u001b[0m\u001b[0m\n\u001b[0m",
      "\u001b[1;31mNameError\u001b[0m: name 'aa' is not defined"
     ]
    }
   ],
   "source": [
    "aa = [10, 20, 30, 40, 50]\n",
    "aa[1:4] = []\n",
    "print(aa)\n",
    "aa = [10, 20, 30]; aa = []; print(aa)\n",
    "aa = [10, 20, 30]; aa = None; print(aa)\n",
    "aa = [10, 20, 30]; del(aa); print(aa)"
   ]
  },
  {
   "cell_type": "markdown",
   "metadata": {},
   "source": [
    "## 실습 Part 5"
   ]
  },
  {
   "cell_type": "markdown",
   "metadata": {},
   "source": [
    "### 실습1\n",
    "- for 반복문"
   ]
  },
  {
   "cell_type": "code",
   "execution_count": 28,
   "metadata": {},
   "outputs": [
    {
     "name": "stdout",
     "output_type": "stream",
     "text": [
      "i =  0\n",
      "i =  1\n",
      "i =  2\n",
      "i =  3\n",
      "i =  4\n",
      "i =  5\n",
      "9 * 0 = 0\n",
      "9 * 1 = 9\n",
      "9 * 2 = 18\n",
      "9 * 3 = 27\n",
      "9 * 4 = 36\n",
      "9 * 5 = 45\n",
      "9 * 6 = 54\n",
      "9 * 7 = 63\n",
      "9 * 8 = 72\n",
      "9 * 9 = 81\n"
     ]
    }
   ],
   "source": [
    "for i in range(6) :\n",
    "    print('i = ', i)\n",
    "for i in range(10) :\n",
    "    print('9 * {} = {}'.format(i, 9*i))"
   ]
  },
  {
   "cell_type": "markdown",
   "metadata": {},
   "source": [
    "### 실습2\n",
    "- for 반복문과 while 반복문 비교"
   ]
  },
  {
   "cell_type": "code",
   "execution_count": 29,
   "metadata": {
    "scrolled": true
   },
   "outputs": [
    {
     "name": "stdout",
     "output_type": "stream",
     "text": [
      "1\n",
      "2\n",
      "3\n",
      "4\n",
      "5\n",
      "6\n",
      "7\n",
      "8\n",
      "9\n",
      "10\n",
      "1\n",
      "2\n",
      "3\n",
      "4\n",
      "5\n",
      "6\n",
      "7\n",
      "8\n",
      "9\n",
      "10\n",
      "1\n",
      "2\n",
      "3\n",
      "4\n",
      "5\n",
      "6\n",
      "7\n",
      "8\n",
      "9\n",
      "10\n",
      "0\n",
      "1\n",
      "2\n",
      "3\n",
      "4\n",
      "5\n",
      "6\n",
      "7\n",
      "8\n",
      "9\n",
      "10\n"
     ]
    }
   ],
   "source": [
    "count = 0\n",
    "while count < 10 :\n",
    "    count += 1\n",
    "    print(count)\n",
    "for count in range(1,11,1) :\n",
    "    print(count)\n",
    "for count in range(1,11) :\n",
    "    print(count)\n",
    "for count in range(11) :\n",
    "    print(count)"
   ]
  },
  {
   "cell_type": "markdown",
   "metadata": {},
   "source": [
    "### 실습3\n",
    "- for 반복문 범위조건 비교"
   ]
  },
  {
   "cell_type": "code",
   "execution_count": 31,
   "metadata": {},
   "outputs": [
    {
     "name": "stdout",
     "output_type": "stream",
     "text": [
      "s :  5\n",
      "s :  5\n"
     ]
    }
   ],
   "source": [
    "s = 0\n",
    "for i in [1, 2, 3, 4, 5]:\n",
    "    s += 1\n",
    "print('s : ', s)\n",
    "s = 0\n",
    "for i in range(1, 6) :\n",
    "    s += 1\n",
    "print('s : ', s)"
   ]
  },
  {
   "cell_type": "markdown",
   "metadata": {},
   "source": [
    "### 실습4\n",
    "- for 반복문 범위조건 비교"
   ]
  },
  {
   "cell_type": "code",
   "execution_count": 32,
   "metadata": {},
   "outputs": [
    {
     "name": "stdout",
     "output_type": "stream",
     "text": [
      "s :  5\n",
      "s :  5\n"
     ]
    }
   ],
   "source": [
    "s = 0\n",
    "for i in [5, 4, 3, 2, 1]:\n",
    "    s += 1\n",
    "print('s : ', s)\n",
    "s = 0\n",
    "for i in range(5,0,-1) :\n",
    "    s += 1\n",
    "print('s : ', s)"
   ]
  },
  {
   "cell_type": "markdown",
   "metadata": {},
   "source": [
    "### 실습5\n",
    "- 입력한 숫자만큼까지의 합계 계산 프로그램"
   ]
  },
  {
   "cell_type": "code",
   "execution_count": 33,
   "metadata": {},
   "outputs": [
    {
     "name": "stdout",
     "output_type": "stream",
     "text": [
      "값을 입력하세요 : 10\n",
      "1에서 10까지의 합계 : 55\n"
     ]
    }
   ],
   "source": [
    "a = int(input('값을 입력하세요 : '))\n",
    "s = 0\n",
    "for i in range(1, a+1) :\n",
    "    s = s + i\n",
    "print('1에서 {}까지의 합계 : {}'.format(a, s))"
   ]
  },
  {
   "cell_type": "markdown",
   "metadata": {},
   "source": [
    "### 실습6\n",
    "- 다양한 조건을 이용한 합계 계산 프로그램"
   ]
  },
  {
   "cell_type": "code",
   "execution_count": 34,
   "metadata": {},
   "outputs": [
    {
     "name": "stdout",
     "output_type": "stream",
     "text": [
      "시작 값을 입력하세요 : 2\n",
      "끝 값을 입력하세요 : 55\n",
      "증가값을 입력하세요 : 3\n",
      "2에서 55까지 3씩 증가시킨 값의 합계 : 495\n"
     ]
    }
   ],
   "source": [
    "s = int(input('시작 값을 입력하세요 : '))\n",
    "e = int(input('끝 값을 입력하세요 : '))\n",
    "a = int(input('증가값을 입력하세요 : '))\n",
    "c = 0\n",
    "for i in range(s, e+1, a) :\n",
    "    c = c + i\n",
    "print('{}에서 {}까지 {}씩 증가시킨 값의 합계 : {}'.format(s, e, a, c))"
   ]
  },
  {
   "cell_type": "markdown",
   "metadata": {},
   "source": [
    "### 실습7\n",
    "- for문을 이용한 구구단 프로그램"
   ]
  },
  {
   "cell_type": "code",
   "execution_count": 35,
   "metadata": {},
   "outputs": [
    {
     "name": "stdout",
     "output_type": "stream",
     "text": [
      "단을 입력하세요 : 5\n",
      "5 X 0 = 0\n",
      "5 X 1 = 5\n",
      "5 X 2 = 10\n",
      "5 X 3 = 15\n",
      "5 X 4 = 20\n",
      "5 X 5 = 25\n",
      "5 X 6 = 30\n",
      "5 X 7 = 35\n",
      "5 X 8 = 40\n",
      "5 X 9 = 45\n"
     ]
    }
   ],
   "source": [
    "d = int(input('단을 입력하세요 : '))\n",
    "for i in range(10):\n",
    "    print('{} X {} = {}'.format(d, i, d*i))"
   ]
  },
  {
   "cell_type": "markdown",
   "metadata": {},
   "source": [
    "### 실습8\n",
    "- for문을 이용한 구구단 프로그램"
   ]
  },
  {
   "cell_type": "code",
   "execution_count": 36,
   "metadata": {},
   "outputs": [
    {
     "name": "stdout",
     "output_type": "stream",
     "text": [
      "#  2단  # #  3단  # #  4단  # #  5단  # #  6단  # #  7단  # #  8단  # #  9단  # \n",
      "2 X 1 =  2 3 X 1 =  3 4 X 1 =  4 5 X 1 =  5 6 X 1 =  6 7 X 1 =  7 8 X 1 =  8 9 X 1 =  9 2 X 2 =  4 3 X 2 =  6 4 X 2 =  8 5 X 2 = 10 6 X 2 = 12 7 X 2 = 14 8 X 2 = 16 9 X 2 = 18 2 X 3 =  6 3 X 3 =  9 4 X 3 = 12 5 X 3 = 15 6 X 3 = 18 7 X 3 = 21 8 X 3 = 24 9 X 3 = 27 2 X 4 =  8 3 X 4 = 12 4 X 4 = 16 5 X 4 = 20 6 X 4 = 24 7 X 4 = 28 8 X 4 = 32 9 X 4 = 36 2 X 5 = 10 3 X 5 = 15 4 X 5 = 20 5 X 5 = 25 6 X 5 = 30 7 X 5 = 35 8 X 5 = 40 9 X 5 = 45 2 X 6 = 12 3 X 6 = 18 4 X 6 = 24 5 X 6 = 30 6 X 6 = 36 7 X 6 = 42 8 X 6 = 48 9 X 6 = 54 2 X 7 = 14 3 X 7 = 21 4 X 7 = 28 5 X 7 = 35 6 X 7 = 42 7 X 7 = 49 8 X 7 = 56 9 X 7 = 63 2 X 8 = 16 3 X 8 = 24 4 X 8 = 32 5 X 8 = 40 6 X 8 = 48 7 X 8 = 56 8 X 8 = 64 9 X 8 = 72 2 X 9 = 18 3 X 9 = 27 4 X 9 = 36 5 X 9 = 45 6 X 9 = 54 7 X 9 = 63 8 X 9 = 72 9 X 9 = 81 "
     ]
    }
   ],
   "source": [
    "for a in range(2, 10) :\n",
    "    print('#  {}단  #'.format(a), end = ' ')\n",
    "print()\n",
    "for b in range(1,10) :\n",
    "    for c in range(2,10) :\n",
    "        print('%d X %d = %2d' % (c, b, b*c), end = ' ')"
   ]
  },
  {
   "cell_type": "code",
   "execution_count": null,
   "metadata": {},
   "outputs": [],
   "source": []
  }
 ],
 "metadata": {
  "kernelspec": {
   "display_name": "Python 3",
   "language": "python",
   "name": "python3"
  },
  "language_info": {
   "codemirror_mode": {
    "name": "ipython",
    "version": 3
   },
   "file_extension": ".py",
   "mimetype": "text/x-python",
   "name": "python",
   "nbconvert_exporter": "python",
   "pygments_lexer": "ipython3",
   "version": "3.7.6"
  }
 },
 "nbformat": 4,
 "nbformat_minor": 4
}
